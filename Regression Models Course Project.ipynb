{
 "cells": [
  {
   "cell_type": "markdown",
   "metadata": {},
   "source": [
    "### You work for Motor Trend, a magazine about the automobile industry. Looking at a data set of a collection of cars, they are interested in exploring the relationship between a set of variables and miles per gallon (MPG) (outcome). They are particularly interested in the following two questions: ###\n",
    "\n",
    "* “Is an automatic or manual transmission better for MPG”\n",
    "* \"Quantify the MPG difference between automatic and manual transmissions\""
   ]
  },
  {
   "cell_type": "code",
   "execution_count": 1,
   "metadata": {},
   "outputs": [],
   "source": [
    "library(datasets)\n",
    "data(mtcars)"
   ]
  },
  {
   "cell_type": "code",
   "execution_count": 2,
   "metadata": {},
   "outputs": [],
   "source": [
    "mtcars$cyl <- factor(mtcars$cyl)\n",
    "mtcars$vs <- factor(mtcars$vs)\n",
    "mtcars$gear <- factor(mtcars$gear)\n",
    "mtcars$carb <- factor(mtcars$carb)\n",
    "mtcars$am <- factor(mtcars$am,labels=c('Automatic','Manual'))"
   ]
  },
  {
   "cell_type": "markdown",
   "metadata": {},
   "source": [
    "#### 1. Is an automatic or manual transmission better for MPG? ####\n",
    "Plot a boxplot of MPG by transmission types (Appendix 2).\n",
    "\n",
    "From the box plot, it seems like manual transmission is better than automatic transmission for MPG.\n",
    "\n",
    "Conduct a t-test to test the hypothesis."
   ]
  },
  {
   "cell_type": "code",
   "execution_count": 3,
   "metadata": {},
   "outputs": [
    {
     "data": {
      "text/plain": [
       "\n",
       "\tWelch Two Sample t-test\n",
       "\n",
       "data:  mtcars$mpg by mtcars$am\n",
       "t = -3.7671, df = 18.332, p-value = 0.001374\n",
       "alternative hypothesis: true difference in means is not equal to 0\n",
       "95 percent confidence interval:\n",
       " -11.280194  -3.209684\n",
       "sample estimates:\n",
       "mean in group Automatic    mean in group Manual \n",
       "               17.14737                24.39231 \n"
      ]
     },
     "metadata": {},
     "output_type": "display_data"
    }
   ],
   "source": [
    "t.test(mtcars$mpg~mtcars$am)"
   ]
  },
  {
   "cell_type": "markdown",
   "metadata": {},
   "source": [
    "Based on the results, p-value = 0.001374<0.05, we reject the null hypothesis that there is no difference in MPG, and conclude that manual transmission is better than automatic transmission for MPG, with assumption that all other conditions remain unchanged."
   ]
  },
  {
   "cell_type": "markdown",
   "metadata": {},
   "source": [
    "#### 2. Quantify the MPG difference between automatic and manual transmissions ####\n",
    "Here we try to quantify the MPG difference between transmission types, and find if there are other variables that account for the MPG differences.\n",
    "\n",
    "First, do a multivariate linear regression with all variables."
   ]
  },
  {
   "cell_type": "code",
   "execution_count": 4,
   "metadata": {},
   "outputs": [],
   "source": [
    "Multi = lm(data = mtcars, mpg~.)"
   ]
  },
  {
   "cell_type": "markdown",
   "metadata": {},
   "source": [
    "We use the step function in R for a stepwise regression, where the choice of predictor is carried out automatically by comparing certain criterion, eg AIC."
   ]
  },
  {
   "cell_type": "code",
   "execution_count": 6,
   "metadata": {},
   "outputs": [
    {
     "name": "stdout",
     "output_type": "stream",
     "text": [
      "Start:  AIC=76.4\n",
      "mpg ~ cyl + disp + hp + drat + wt + qsec + vs + am + gear + carb\n",
      "\n",
      "       Df Sum of Sq    RSS    AIC\n",
      "- carb  5   13.5989 134.00 69.828\n",
      "- gear  2    3.9729 124.38 73.442\n",
      "- am    1    1.1420 121.55 74.705\n",
      "- qsec  1    1.2413 121.64 74.732\n",
      "- drat  1    1.8208 122.22 74.884\n",
      "- cyl   2   10.9314 131.33 75.184\n",
      "- vs    1    3.6299 124.03 75.354\n",
      "<none>              120.40 76.403\n",
      "- disp  1    9.9672 130.37 76.948\n",
      "- wt    1   25.5541 145.96 80.562\n",
      "- hp    1   25.6715 146.07 80.588\n",
      "\n",
      "Step:  AIC=69.83\n",
      "mpg ~ cyl + disp + hp + drat + wt + qsec + vs + am + gear\n",
      "\n",
      "       Df Sum of Sq    RSS    AIC\n",
      "- gear  2    5.0215 139.02 67.005\n",
      "- disp  1    0.9934 135.00 68.064\n",
      "- drat  1    1.1854 135.19 68.110\n",
      "- vs    1    3.6763 137.68 68.694\n",
      "- cyl   2   12.5642 146.57 68.696\n",
      "- qsec  1    5.2634 139.26 69.061\n",
      "<none>              134.00 69.828\n",
      "- am    1   11.9255 145.93 70.556\n",
      "- wt    1   19.7963 153.80 72.237\n",
      "- hp    1   22.7935 156.79 72.855\n",
      "+ carb  5   13.5989 120.40 76.403\n",
      "\n",
      "Step:  AIC=67\n",
      "mpg ~ cyl + disp + hp + drat + wt + qsec + vs + am\n",
      "\n",
      "       Df Sum of Sq    RSS    AIC\n",
      "- drat  1    0.9672 139.99 65.227\n",
      "- cyl   2   10.4247 149.45 65.319\n",
      "- disp  1    1.5483 140.57 65.359\n",
      "- vs    1    2.1829 141.21 65.503\n",
      "- qsec  1    3.6324 142.66 65.830\n",
      "<none>              139.02 67.005\n",
      "- am    1   16.5665 155.59 68.608\n",
      "- hp    1   18.1768 157.20 68.937\n",
      "+ gear  2    5.0215 134.00 69.828\n",
      "- wt    1   31.1896 170.21 71.482\n",
      "+ carb  5   14.6475 124.38 73.442\n",
      "\n",
      "Step:  AIC=65.23\n",
      "mpg ~ cyl + disp + hp + wt + qsec + vs + am\n",
      "\n",
      "       Df Sum of Sq    RSS    AIC\n",
      "- disp  1    1.2474 141.24 63.511\n",
      "- vs    1    2.3403 142.33 63.757\n",
      "- cyl   2   12.3267 152.32 63.927\n",
      "- qsec  1    3.1000 143.09 63.928\n",
      "<none>              139.99 65.227\n",
      "+ drat  1    0.9672 139.02 67.005\n",
      "- hp    1   17.7382 157.73 67.044\n",
      "- am    1   19.4660 159.46 67.393\n",
      "+ gear  2    4.8033 135.19 68.110\n",
      "- wt    1   30.7151 170.71 69.574\n",
      "+ carb  5   13.0509 126.94 72.095\n",
      "\n",
      "Step:  AIC=63.51\n",
      "mpg ~ cyl + hp + wt + qsec + vs + am\n",
      "\n",
      "       Df Sum of Sq    RSS    AIC\n",
      "- qsec  1     2.442 143.68 62.059\n",
      "- vs    1     2.744 143.98 62.126\n",
      "- cyl   2    18.580 159.82 63.466\n",
      "<none>              141.24 63.511\n",
      "+ disp  1     1.247 139.99 65.227\n",
      "+ drat  1     0.666 140.57 65.359\n",
      "- hp    1    18.184 159.42 65.386\n",
      "- am    1    18.885 160.12 65.527\n",
      "+ gear  2     4.684 136.55 66.431\n",
      "- wt    1    39.645 180.88 69.428\n",
      "+ carb  5     2.331 138.91 72.978\n",
      "\n",
      "Step:  AIC=62.06\n",
      "mpg ~ cyl + hp + wt + vs + am\n",
      "\n",
      "       Df Sum of Sq    RSS    AIC\n",
      "- vs    1     7.346 151.03 61.655\n",
      "<none>              143.68 62.059\n",
      "- cyl   2    25.284 168.96 63.246\n",
      "+ qsec  1     2.442 141.24 63.511\n",
      "- am    1    16.443 160.12 63.527\n",
      "+ disp  1     0.589 143.09 63.928\n",
      "+ drat  1     0.330 143.35 63.986\n",
      "+ gear  2     3.437 140.24 65.284\n",
      "- hp    1    36.344 180.02 67.275\n",
      "- wt    1    41.088 184.77 68.108\n",
      "+ carb  5     3.480 140.20 71.275\n",
      "\n",
      "Step:  AIC=61.65\n",
      "mpg ~ cyl + hp + wt + am\n",
      "\n",
      "       Df Sum of Sq    RSS    AIC\n",
      "<none>              151.03 61.655\n",
      "- am    1     9.752 160.78 61.657\n",
      "+ vs    1     7.346 143.68 62.059\n",
      "+ qsec  1     7.044 143.98 62.126\n",
      "- cyl   2    29.265 180.29 63.323\n",
      "+ disp  1     0.617 150.41 63.524\n",
      "+ drat  1     0.220 150.81 63.608\n",
      "+ gear  2     1.361 149.66 65.365\n",
      "- hp    1    31.943 182.97 65.794\n",
      "- wt    1    46.173 197.20 68.191\n",
      "+ carb  5     5.633 145.39 70.438\n"
     ]
    }
   ],
   "source": [
    "Best = step(Multi, direction = \"both\")"
   ]
  },
  {
   "cell_type": "code",
   "execution_count": 7,
   "metadata": {},
   "outputs": [
    {
     "data": {
      "text/plain": [
       "\n",
       "Call:\n",
       "lm(formula = mpg ~ cyl + hp + wt + am, data = mtcars)\n",
       "\n",
       "Residuals:\n",
       "    Min      1Q  Median      3Q     Max \n",
       "-3.9387 -1.2560 -0.4013  1.1253  5.0513 \n",
       "\n",
       "Coefficients:\n",
       "            Estimate Std. Error t value Pr(>|t|)    \n",
       "(Intercept) 33.70832    2.60489  12.940 7.73e-13 ***\n",
       "cyl6        -3.03134    1.40728  -2.154  0.04068 *  \n",
       "cyl8        -2.16368    2.28425  -0.947  0.35225    \n",
       "hp          -0.03211    0.01369  -2.345  0.02693 *  \n",
       "wt          -2.49683    0.88559  -2.819  0.00908 ** \n",
       "amManual     1.80921    1.39630   1.296  0.20646    \n",
       "---\n",
       "Signif. codes:  0 '***' 0.001 '**' 0.01 '*' 0.05 '.' 0.1 ' ' 1\n",
       "\n",
       "Residual standard error: 2.41 on 26 degrees of freedom\n",
       "Multiple R-squared:  0.8659,\tAdjusted R-squared:  0.8401 \n",
       "F-statistic: 33.57 on 5 and 26 DF,  p-value: 1.506e-10\n"
      ]
     },
     "metadata": {},
     "output_type": "display_data"
    }
   ],
   "source": [
    "summary(Best)"
   ]
  },
  {
   "cell_type": "markdown",
   "metadata": {},
   "source": [
    "The results suggests that the best model includes cyl6, cyl8, hp, wt, and amManual variables. About 86.59% of the variance is explained by this model. Cylinders change negatively with mpg (-3.03miles and -2.16miles for cyl6 and cyl8 respectively), so do with horsepower (-0.03miles), and weight (-2.5miles for every 1,000lb). On the other hand, manual transmission is 1.81mpg better than automatic transmission.\n",
    "\n",
    "Residual plots seems to be randomly scattered, and some transformation may be needed for linearity (Appendix 3)."
   ]
  },
  {
   "cell_type": "markdown",
   "metadata": {},
   "source": [
    "### Conclusion ###\n",
    "On average, manual transmission is better than automatic transmission by 1.81mpg. However, transmission type is not the only factor accounting for MPG, cylinders, horsepower, and weitght are the important factors in affecting the MPG."
   ]
  },
  {
   "cell_type": "markdown",
   "metadata": {},
   "source": [
    "### Appendix ###"
   ]
  },
  {
   "cell_type": "markdown",
   "metadata": {},
   "source": [
    "Appendix 1"
   ]
  },
  {
   "cell_type": "code",
   "execution_count": 8,
   "metadata": {},
   "outputs": [
    {
     "data": {
      "image/png": "[encoded data removed]",
      "text/plain": [
       "plot without title"
      ]
     },
     "metadata": {},
     "output_type": "display_data"
    }
   ],
   "source": [
    "pairs(mtcars)"
   ]
  },
  {
   "cell_type": "markdown",
   "metadata": {},
   "source": [
    "Appendix 2"
   ]
  },
  {
   "cell_type": "code",
   "execution_count": 9,
   "metadata": {},
   "outputs": [
    {
     "data": {
      "image/png": "[encoded data removed]",
      "text/plain": [
       "Plot with title \"MPG by Transmission Type\""
      ]
     },
     "metadata": {},
     "output_type": "display_data"
    }
   ],
   "source": [
    "boxplot(mpg~am, data = mtcars,\n",
    "        xlab = \"Transmission\",\n",
    "        ylab = \"Miles per Gallon\",\n",
    "        main = \"MPG by Transmission Type\")"
   ]
  },
  {
   "cell_type": "markdown",
   "metadata": {},
   "source": [
    "Appendix 3"
   ]
  },
  {
   "cell_type": "code",
   "execution_count": 10,
   "metadata": {},
   "outputs": [
    {
     "data": {
      "image/png": "[encoded data removed]",
      "text/plain": [
       "Plot with title \"\""
      ]
     },
     "metadata": {},
     "output_type": "display_data"
    }
   ],
   "source": [
    "par(mfrow = c(2,2))\n",
    "plot(Best)"
   ]
  },
  {
   "cell_type": "code",
   "execution_count": null,
   "metadata": {},
   "outputs": [],
   "source": []
  },
  {
   "cell_type": "code",
   "execution_count": null,
   "metadata": {},
   "outputs": [],
   "source": []
  },
  {
   "cell_type": "code",
   "execution_count": null,
   "metadata": {},
   "outputs": [],
   "source": []
  }
 ],
 "metadata": {
  "kernelspec": {
   "display_name": "R [conda env:Anaconda3]",
   "language": "R",
   "name": "conda-env-Anaconda3-r"
  },
  "language_info": {
   "codemirror_mode": "r",
   "file_extension": ".r",
   "mimetype": "text/x-r-source",
   "name": "R",
   "pygments_lexer": "r",
   "version": "3.4.2"
  }
 },
 "nbformat": 4,
 "nbformat_minor": 2
}
